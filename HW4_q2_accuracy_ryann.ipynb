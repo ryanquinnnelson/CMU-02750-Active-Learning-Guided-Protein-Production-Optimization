{
 "cells": [
  {
   "cell_type": "markdown",
   "id": "vocal-preview",
   "metadata": {},
   "source": [
    "### Imports"
   ]
  },
  {
   "cell_type": "code",
   "execution_count": 57,
   "id": "forward-slovakia",
   "metadata": {},
   "outputs": [],
   "source": [
    "import copy\n",
    "import random\n",
    "import numpy as np\n",
    "import pandas as pd\n",
    "import matplotlib.pyplot as plt\n",
    "\n",
    "from sklearn.linear_model import LinearRegression\n",
    "from sklearn.preprocessing import StandardScaler\n",
    "from sklearn.ensemble import RandomForestRegressor\n",
    "from sklearn.metrics import r2_score\n",
    "from sklearn.gaussian_process import GaussianProcessRegressor\n",
    "from sklearn.model_selection import KFold\n",
    "from sklearn.metrics import mean_squared_error\n",
    "\n",
    "from modAL.models import ActiveLearner, CommitteeRegressor\n",
    "from modAL.disagreement import max_std_sampling\n",
    "\n",
    "### Suppresses Warning\n",
    "import warnings\n",
    "warnings.filterwarnings('ignore')\n",
    "\n",
    "seed = 42\n",
    "random.seed(seed)\n",
    "np.random.seed(seed)"
   ]
  },
  {
   "cell_type": "markdown",
   "id": "surprised-impact",
   "metadata": {},
   "source": [
    "### Ideas\n",
    "- Try Gaussian process as regressor. There may be a performance difference using it in Active Learning vs Bayesian Optimization.\n",
    "- Types of regression to try\n",
    "    - linear\n",
    "    - ridge\n",
    "    - lasso\n",
    "    - polynomial\n"
   ]
  },
  {
   "cell_type": "markdown",
   "id": "marine-graphic",
   "metadata": {},
   "source": [
    "### Functions"
   ]
  },
  {
   "cell_type": "code",
   "execution_count": 58,
   "id": "pharmaceutical-native",
   "metadata": {},
   "outputs": [],
   "source": [
    "def get_min_max_combinations(ranges_dict, feature):\n",
    "    \n",
    "    # min of all other features, max of this feature\n",
    "    min_combo = []\n",
    "    for key in ranges_dict.keys():\n",
    "        \n",
    "        if key == feature:\n",
    "            min_combo.append(min(ranges_dict[key]))\n",
    "        else:\n",
    "            min_combo.append(max(ranges_dict[key]))\n",
    "        \n",
    "\n",
    "    # max of all other features, min of this feature\n",
    "    max_combo = []\n",
    "    for key in ranges_dict.keys():\n",
    "        \n",
    "        if key == feature:\n",
    "            max_combo.append(max(ranges_dict[key]))\n",
    "        else:\n",
    "            max_combo.append(min(ranges_dict[key]))\n",
    "    \n",
    "    return tuple(min_combo), tuple(max_combo)"
   ]
  },
  {
   "cell_type": "code",
   "execution_count": 59,
   "id": "specialized-shoot",
   "metadata": {},
   "outputs": [],
   "source": [
    "def get_index(df, combo):\n",
    "    \n",
    "    # split into components\n",
    "    Mg_glutamate, K_glutamate, Amino_Acid, tRNA, coA, NAD, cAMP, Folinic_Acid, Spermidine, Three_PGA, NTP = combo\n",
    "    \n",
    "    # get index of matching row in data\n",
    "    a = df.index[\n",
    "              np.isclose(df['Mg-glutamate (mM)'], Mg_glutamate) \\\n",
    "            & np.isclose(df['K-glutamate (mM)'], K_glutamate) \\\n",
    "            & np.isclose(df['Amino Acid (mM)'], Amino_Acid) \\\n",
    "            & np.isclose(df['tRNA (mg/ml)'], tRNA) \\\n",
    "            & np.isclose(df['coA (mM)'],coA)  \\\n",
    "            & np.isclose(df['NAD (mM)'], NAD) \\\n",
    "            & np.isclose(df['cAMP (mM)'], cAMP) \\\n",
    "            & np.isclose(df['Folinic Acid (mM)'], Folinic_Acid) \\\n",
    "            & np.isclose(df['Spermidine (mM)'], Spermidine) \\\n",
    "            & np.isclose(df['3-PGA (mM)'], Three_PGA) \\\n",
    "            & np.isclose(df['NTP (mM)'], NTP)]\n",
    "    return a.tolist()[0]\n",
    "\n"
   ]
  },
  {
   "cell_type": "code",
   "execution_count": 60,
   "id": "danish-signature",
   "metadata": {},
   "outputs": [],
   "source": [
    "def get_initial_22_idx(df, ranges_dict):\n",
    "    \n",
    "    initial_idx = []\n",
    "    \n",
    "    # for each feature\n",
    "    for key in ranges_dict.keys():\n",
    "        min_combo, max_combo = get_min_max_combinations(ranges_dict,key)\n",
    "        idx = get_index(df, min_combo)\n",
    "        initial_idx.append(idx)\n",
    "        idx = get_index(df, max_combo)\n",
    "        initial_idx.append(idx)\n",
    "        \n",
    "    return np.array(initial_idx)\n",
    "    "
   ]
  },
  {
   "cell_type": "markdown",
   "id": "exposed-condition",
   "metadata": {},
   "source": [
    "# Data Prep"
   ]
  },
  {
   "cell_type": "markdown",
   "id": "protecting-papua",
   "metadata": {},
   "source": [
    "### Load Data"
   ]
  },
  {
   "cell_type": "code",
   "execution_count": 61,
   "id": "hourly-drawing",
   "metadata": {},
   "outputs": [
    {
     "name": "stdout",
     "output_type": "stream",
     "text": [
      "(1017, 12)\n"
     ]
    }
   ],
   "source": [
    "data = pd.read_csv('data/DataPool.csv')\n",
    "print(data.shape)\n",
    "data.head(5)\n",
    "cols = data.columns"
   ]
  },
  {
   "cell_type": "markdown",
   "id": "progressive-flight",
   "metadata": {},
   "source": [
    "### Split into features and target"
   ]
  },
  {
   "cell_type": "code",
   "execution_count": 62,
   "id": "sudden-sterling",
   "metadata": {},
   "outputs": [
    {
     "name": "stdout",
     "output_type": "stream",
     "text": [
      "(1017, 11)\n",
      "(1017,)\n"
     ]
    }
   ],
   "source": [
    "X = data.drop(['Yield'],axis=1)\n",
    "print(X.shape)\n",
    "y_pool = data['Yield'].to_numpy()\n",
    "print(y_pool.shape)"
   ]
  },
  {
   "cell_type": "code",
   "execution_count": 63,
   "id": "progressive-williams",
   "metadata": {},
   "outputs": [
    {
     "data": {
      "text/html": [
       "<div>\n",
       "<style scoped>\n",
       "    .dataframe tbody tr th:only-of-type {\n",
       "        vertical-align: middle;\n",
       "    }\n",
       "\n",
       "    .dataframe tbody tr th {\n",
       "        vertical-align: top;\n",
       "    }\n",
       "\n",
       "    .dataframe thead th {\n",
       "        text-align: right;\n",
       "    }\n",
       "</style>\n",
       "<table border=\"1\" class=\"dataframe\">\n",
       "  <thead>\n",
       "    <tr style=\"text-align: right;\">\n",
       "      <th></th>\n",
       "      <th>Mg-glutamate (mM)</th>\n",
       "      <th>K-glutamate (mM)</th>\n",
       "      <th>Amino Acid (mM)</th>\n",
       "      <th>tRNA (mg/ml)</th>\n",
       "      <th>coA (mM)</th>\n",
       "      <th>NAD (mM)</th>\n",
       "      <th>cAMP (mM)</th>\n",
       "      <th>Folinic Acid (mM)</th>\n",
       "      <th>Spermidine (mM)</th>\n",
       "      <th>3-PGA (mM)</th>\n",
       "      <th>NTP (mM)</th>\n",
       "      <th>Yield</th>\n",
       "    </tr>\n",
       "  </thead>\n",
       "  <tbody>\n",
       "    <tr>\n",
       "      <th>0</th>\n",
       "      <td>4.0</td>\n",
       "      <td>80</td>\n",
       "      <td>0.15</td>\n",
       "      <td>0.06</td>\n",
       "      <td>0.078</td>\n",
       "      <td>0.033</td>\n",
       "      <td>0.225</td>\n",
       "      <td>0.0340</td>\n",
       "      <td>0.5</td>\n",
       "      <td>9</td>\n",
       "      <td>1.50</td>\n",
       "      <td>12.738</td>\n",
       "    </tr>\n",
       "    <tr>\n",
       "      <th>1</th>\n",
       "      <td>2.0</td>\n",
       "      <td>40</td>\n",
       "      <td>0.15</td>\n",
       "      <td>0.10</td>\n",
       "      <td>0.026</td>\n",
       "      <td>0.033</td>\n",
       "      <td>0.075</td>\n",
       "      <td>0.0068</td>\n",
       "      <td>0.1</td>\n",
       "      <td>15</td>\n",
       "      <td>0.75</td>\n",
       "      <td>5.527</td>\n",
       "    </tr>\n",
       "    <tr>\n",
       "      <th>2</th>\n",
       "      <td>4.0</td>\n",
       "      <td>80</td>\n",
       "      <td>0.15</td>\n",
       "      <td>0.20</td>\n",
       "      <td>0.026</td>\n",
       "      <td>0.330</td>\n",
       "      <td>0.075</td>\n",
       "      <td>0.0204</td>\n",
       "      <td>0.3</td>\n",
       "      <td>9</td>\n",
       "      <td>1.50</td>\n",
       "      <td>19.079</td>\n",
       "    </tr>\n",
       "    <tr>\n",
       "      <th>3</th>\n",
       "      <td>1.2</td>\n",
       "      <td>40</td>\n",
       "      <td>0.15</td>\n",
       "      <td>0.10</td>\n",
       "      <td>0.026</td>\n",
       "      <td>0.099</td>\n",
       "      <td>0.075</td>\n",
       "      <td>0.0340</td>\n",
       "      <td>0.5</td>\n",
       "      <td>3</td>\n",
       "      <td>0.75</td>\n",
       "      <td>9.743</td>\n",
       "    </tr>\n",
       "    <tr>\n",
       "      <th>4</th>\n",
       "      <td>4.0</td>\n",
       "      <td>80</td>\n",
       "      <td>1.50</td>\n",
       "      <td>0.06</td>\n",
       "      <td>0.130</td>\n",
       "      <td>0.033</td>\n",
       "      <td>0.075</td>\n",
       "      <td>0.0680</td>\n",
       "      <td>0.1</td>\n",
       "      <td>9</td>\n",
       "      <td>1.50</td>\n",
       "      <td>27.388</td>\n",
       "    </tr>\n",
       "    <tr>\n",
       "      <th>...</th>\n",
       "      <td>...</td>\n",
       "      <td>...</td>\n",
       "      <td>...</td>\n",
       "      <td>...</td>\n",
       "      <td>...</td>\n",
       "      <td>...</td>\n",
       "      <td>...</td>\n",
       "      <td>...</td>\n",
       "      <td>...</td>\n",
       "      <td>...</td>\n",
       "      <td>...</td>\n",
       "      <td>...</td>\n",
       "    </tr>\n",
       "    <tr>\n",
       "      <th>1012</th>\n",
       "      <td>4.0</td>\n",
       "      <td>80</td>\n",
       "      <td>0.15</td>\n",
       "      <td>0.02</td>\n",
       "      <td>0.026</td>\n",
       "      <td>0.330</td>\n",
       "      <td>0.075</td>\n",
       "      <td>0.0340</td>\n",
       "      <td>0.1</td>\n",
       "      <td>9</td>\n",
       "      <td>1.50</td>\n",
       "      <td>20.870</td>\n",
       "    </tr>\n",
       "    <tr>\n",
       "      <th>1013</th>\n",
       "      <td>4.0</td>\n",
       "      <td>80</td>\n",
       "      <td>1.50</td>\n",
       "      <td>0.10</td>\n",
       "      <td>0.130</td>\n",
       "      <td>0.165</td>\n",
       "      <td>0.075</td>\n",
       "      <td>0.0068</td>\n",
       "      <td>0.3</td>\n",
       "      <td>9</td>\n",
       "      <td>1.50</td>\n",
       "      <td>21.862</td>\n",
       "    </tr>\n",
       "    <tr>\n",
       "      <th>1014</th>\n",
       "      <td>1.2</td>\n",
       "      <td>40</td>\n",
       "      <td>0.15</td>\n",
       "      <td>0.02</td>\n",
       "      <td>0.026</td>\n",
       "      <td>0.099</td>\n",
       "      <td>0.075</td>\n",
       "      <td>0.0068</td>\n",
       "      <td>0.3</td>\n",
       "      <td>15</td>\n",
       "      <td>0.75</td>\n",
       "      <td>12.295</td>\n",
       "    </tr>\n",
       "    <tr>\n",
       "      <th>1015</th>\n",
       "      <td>0.4</td>\n",
       "      <td>40</td>\n",
       "      <td>0.15</td>\n",
       "      <td>0.06</td>\n",
       "      <td>0.026</td>\n",
       "      <td>0.033</td>\n",
       "      <td>0.075</td>\n",
       "      <td>0.0340</td>\n",
       "      <td>0.1</td>\n",
       "      <td>9</td>\n",
       "      <td>0.75</td>\n",
       "      <td>7.758</td>\n",
       "    </tr>\n",
       "    <tr>\n",
       "      <th>1016</th>\n",
       "      <td>2.0</td>\n",
       "      <td>40</td>\n",
       "      <td>0.15</td>\n",
       "      <td>0.10</td>\n",
       "      <td>0.078</td>\n",
       "      <td>0.033</td>\n",
       "      <td>0.225</td>\n",
       "      <td>0.0204</td>\n",
       "      <td>0.1</td>\n",
       "      <td>9</td>\n",
       "      <td>0.45</td>\n",
       "      <td>2.605</td>\n",
       "    </tr>\n",
       "  </tbody>\n",
       "</table>\n",
       "<p>1017 rows × 12 columns</p>\n",
       "</div>"
      ],
      "text/plain": [
       "      Mg-glutamate (mM)  K-glutamate (mM)  Amino Acid (mM)  tRNA (mg/ml)  \\\n",
       "0                   4.0                80             0.15          0.06   \n",
       "1                   2.0                40             0.15          0.10   \n",
       "2                   4.0                80             0.15          0.20   \n",
       "3                   1.2                40             0.15          0.10   \n",
       "4                   4.0                80             1.50          0.06   \n",
       "...                 ...               ...              ...           ...   \n",
       "1012                4.0                80             0.15          0.02   \n",
       "1013                4.0                80             1.50          0.10   \n",
       "1014                1.2                40             0.15          0.02   \n",
       "1015                0.4                40             0.15          0.06   \n",
       "1016                2.0                40             0.15          0.10   \n",
       "\n",
       "      coA (mM)  NAD (mM)  cAMP (mM)  Folinic Acid (mM)  Spermidine (mM)  \\\n",
       "0        0.078     0.033      0.225             0.0340              0.5   \n",
       "1        0.026     0.033      0.075             0.0068              0.1   \n",
       "2        0.026     0.330      0.075             0.0204              0.3   \n",
       "3        0.026     0.099      0.075             0.0340              0.5   \n",
       "4        0.130     0.033      0.075             0.0680              0.1   \n",
       "...        ...       ...        ...                ...              ...   \n",
       "1012     0.026     0.330      0.075             0.0340              0.1   \n",
       "1013     0.130     0.165      0.075             0.0068              0.3   \n",
       "1014     0.026     0.099      0.075             0.0068              0.3   \n",
       "1015     0.026     0.033      0.075             0.0340              0.1   \n",
       "1016     0.078     0.033      0.225             0.0204              0.1   \n",
       "\n",
       "      3-PGA (mM)  NTP (mM)   Yield  \n",
       "0              9      1.50  12.738  \n",
       "1             15      0.75   5.527  \n",
       "2              9      1.50  19.079  \n",
       "3              3      0.75   9.743  \n",
       "4              9      1.50  27.388  \n",
       "...          ...       ...     ...  \n",
       "1012           9      1.50  20.870  \n",
       "1013           9      1.50  21.862  \n",
       "1014          15      0.75  12.295  \n",
       "1015           9      0.75   7.758  \n",
       "1016           9      0.45   2.605  \n",
       "\n",
       "[1017 rows x 12 columns]"
      ]
     },
     "execution_count": 63,
     "metadata": {},
     "output_type": "execute_result"
    }
   ],
   "source": [
    "data"
   ]
  },
  {
   "cell_type": "markdown",
   "id": "selective-snake",
   "metadata": {},
   "source": [
    "### Scale data\n",
    "So all variables have the same mean and std dev"
   ]
  },
  {
   "cell_type": "code",
   "execution_count": 64,
   "id": "robust-forwarding",
   "metadata": {},
   "outputs": [],
   "source": [
    "scaler = StandardScaler()\n",
    "X_pool = scaler.fit_transform(X)"
   ]
  },
  {
   "cell_type": "markdown",
   "id": "funded-pricing",
   "metadata": {},
   "source": [
    "# Define initial dataset\n",
    "- 11 data points in which each compound is minimized except one is maximized\n",
    "- 11 data pionts in which each compound is maximized except one is minimized\n",
    "- 80 random data points"
   ]
  },
  {
   "cell_type": "code",
   "execution_count": 65,
   "id": "gentle-somalia",
   "metadata": {},
   "outputs": [],
   "source": [
    "ranges_dict = {\n",
    "    'Mg-glutamate (mM)':[0.4,1.2,2,4],\n",
    "    'K-glutamate (mM)':[8,24,40,80],\n",
    "    'Amino Acid (mM)': [0.15,0.45,0.75,1.5],\n",
    "    'tRNA (mg/ml)':[0.02,0.06,0.1,0.2],\n",
    "    'coA (mM)':[0.026,0.078,0.13,0.26],\n",
    "    'NAD (mM)':[0.033,0.099,0.165,0.33],\n",
    "    'cAMP (mM)':[0.075,0.225,0.375,0.75],\n",
    "    'Folinic Acid (mM)':[0.0068,0.0204,0.034,0.068],\n",
    "    'Spermidine (mM)':[0.1,0.3,0.5,1],\n",
    "    '3-PGA (mM)':[3,9,15,30],\n",
    "    'NTP (mM)':[0.15,0.45,0.75,1.5]\n",
    "}\n"
   ]
  },
  {
   "cell_type": "code",
   "execution_count": 66,
   "id": "impossible-grade",
   "metadata": {},
   "outputs": [],
   "source": [
    "def get_random_n_idx(y_pool, y_max, n):\n",
    "    \n",
    "    selected_idx = []\n",
    "    while len(selected_idx) < n:\n",
    "        idx = np.random.choice(range(len(X_pool)), size=1, replace=False)\n",
    "        \n",
    "        if idx not in selected_idx: # hasn't been selected yet\n",
    "            \n",
    "            # limit max yield to y_max \n",
    "            if y_pool[idx] <= y_max:\n",
    "                selected_idx.append(idx.item(0))\n",
    "                \n",
    "    return selected_idx"
   ]
  },
  {
   "cell_type": "code",
   "execution_count": 67,
   "id": "beginning-workshop",
   "metadata": {},
   "outputs": [
    {
     "name": "stdout",
     "output_type": "stream",
     "text": [
      "(22, 11)\n",
      "(22,)\n",
      "(995, 11)\n",
      "(995,)\n",
      "(80, 11)\n",
      "(80,)\n",
      "(915, 11)\n",
      "(915,)\n",
      "(102, 11)\n",
      "(102,)\n"
     ]
    }
   ],
   "source": [
    "idx_first_22 = get_initial_22_idx(data, ranges_dict)\n",
    "\n",
    "X_training_22 = X_pool[idx_first_22]\n",
    "y_training_22 = y_pool[idx_first_22]\n",
    "print(X_training_22.shape)\n",
    "print(y_training_22.shape)\n",
    "\n",
    "# remove from pool\n",
    "X_pool = np.delete(X_pool, idx_first_22, axis=0)\n",
    "y_pool = np.delete(y_pool, idx_first_22)   \n",
    "print(X_pool.shape)\n",
    "print(y_pool.shape)\n",
    "\n",
    "# # chose 80 points from pool at random\n",
    "# idx_random_80 = np.random.choice(range(len(X_pool)), size=80, replace=False)\n",
    "\n",
    "# choose 80 points at random, with the limitation that the yield should not exceed that of the initial 22\n",
    "y_max = np.max(y_training_22)\n",
    "idx_random_80 = get_random_n_idx(y_pool, y_max, n=80)\n",
    "X_training_80, y_training_80 = X_pool[idx_random_80], y_pool[idx_random_80]\n",
    "print(X_training_80.shape)\n",
    "print(y_training_80.shape)\n",
    "\n",
    "# remove 80 points from pool\n",
    "X_pool = np.delete(X_pool, idx_random_80, axis=0)\n",
    "y_pool = np.delete(y_pool, idx_random_80)   \n",
    "print(X_pool.shape)\n",
    "print(y_pool.shape) \n",
    "\n",
    "# combine training sets together\n",
    "X_training = np.append(X_training_22, X_training_80, axis=0)\n",
    "y_training = np.append(y_training_22, y_training_80, axis=0)\n",
    "print(X_training.shape)\n",
    "print(y_training.shape)\n",
    "\n",
    "assert X_training.shape == (102,11)\n",
    "assert y_training.shape == (102, )"
   ]
  },
  {
   "cell_type": "markdown",
   "id": "medical-headset",
   "metadata": {},
   "source": [
    "# Define Model"
   ]
  },
  {
   "cell_type": "code",
   "execution_count": 68,
   "id": "israeli-proposition",
   "metadata": {},
   "outputs": [],
   "source": [
    "class RfWrapper(RandomForestRegressor):  # superclass\n",
    "    \"\"\"\n",
    "    Wrapper class for RandomForestRegressor which modifies predict() method to include second argument return_std.\n",
    "    This argument is expected by\n",
    "    modAL library for active learning regression. Provided by course instructors.\n",
    "    \"\"\"\n",
    "\n",
    "    def predict(self, X, return_std=False):\n",
    "        if return_std:\n",
    "            ys = np.array([e.predict(X) for e in self.estimators_])\n",
    "            return np.mean(ys, axis=0).ravel(), np.std(ys, axis=0).ravel()\n",
    "        return super().predict(X).ravel()\n"
   ]
  },
  {
   "cell_type": "code",
   "execution_count": 69,
   "id": "cultural-sydney",
   "metadata": {},
   "outputs": [],
   "source": [
    "class LrWrapper(LinearRegression):  #superclass\n",
    "    \"\"\"\n",
    "    Wrapper class for RandomForestRegressor which modifies predict() method to include second argument return_std.\n",
    "    This argument is expected by\n",
    "    modAL library for active learning regression.\n",
    "    \"\"\"\n",
    "    \n",
    "    def predict(self, X, return_std=False):\n",
    "        if return_std:\n",
    "            ys = np.array([e.predict(X) for e in self.estimators_])\n",
    "            return np.mean(ys, axis=0).ravel(), np.std(ys, axis=0).ravel()\n",
    "        return super().predict(X).ravel()"
   ]
  },
  {
   "cell_type": "code",
   "execution_count": 70,
   "id": "gross-atlanta",
   "metadata": {},
   "outputs": [],
   "source": [
    "def get_next_sample(optimizer, X_pool, y_pool):\n",
    "\n",
    "    # call the query strategy defined in the learner to obtain a new sample\n",
    "    query_idx, query_sample = optimizer.query(X_pool)\n",
    "\n",
    "    # modify indexing to interpret as collection of one element with d features\n",
    "    query_sample_reshaped = query_sample.reshape(1, -1)\n",
    "\n",
    "    # obtain the query label\n",
    "    query_label = y_pool[query_idx]\n",
    "\n",
    "    # modify indexing to interpret as 1D array of one element\n",
    "    query_label_reshaped = query_label.reshape(1, )\n",
    "\n",
    "    return query_sample_reshaped, query_label_reshaped, query_idx\n"
   ]
  },
  {
   "cell_type": "code",
   "execution_count": 71,
   "id": "heated-fellowship",
   "metadata": {},
   "outputs": [],
   "source": [
    "def get_next_batch(learner, X_pool, y_pool, batch_size):\n",
    "    \n",
    "    n_col = X_pool.shape[1]\n",
    "    X_batch = np.zeros((batch_size, n_col))\n",
    "    y_batch = np.zeros((batch_size,))\n",
    "\n",
    "    \n",
    "    for i in range(batch_size):\n",
    "        \n",
    "        X_sample, y_sample, query_idx = get_next_sample(learner, X_pool, y_pool)\n",
    "        \n",
    "        # add to batch\n",
    "        X_batch[i] = X_sample\n",
    "        y_batch[i] = y_sample\n",
    "        \n",
    "        # remove queried point from pool\n",
    "        X_pool = np.delete(X_pool, query_idx, axis=0)\n",
    "        y_pool = np.delete(y_pool, query_idx)     \n",
    "        \n",
    "    return X_batch, y_batch, X_pool, y_pool\n",
    "        \n"
   ]
  },
  {
   "cell_type": "code",
   "execution_count": 72,
   "id": "comprehensive-scale",
   "metadata": {},
   "outputs": [],
   "source": [
    "def score_regression_model(optimizer, X_test, y_test, X_train, y_train):\n",
    "\n",
    "    y_pred = optimizer.predict(X_test, return_std=False)\n",
    "    r2 = r2_score(y_test, y_pred)\n",
    "    \n",
    "    # root square mean error\n",
    "    # test data\n",
    "    rmse_test = mean_squared_error(y_test, y_pred, squared=False)\n",
    "    \n",
    "    # training data\n",
    "    y_pred_train = optimizer.predict(X_train, return_std=False)\n",
    "    rmse_train = mean_squared_error(y_train, y_pred_train, squared=False)\n",
    "    \n",
    "    return r2, rmse_test, rmse_train"
   ]
  },
  {
   "cell_type": "code",
   "execution_count": 73,
   "id": "accessible-ultimate",
   "metadata": {},
   "outputs": [],
   "source": [
    "def build_committee(n_learner, X_training, y_training, seed):\n",
    "    \n",
    "    # get bootstrapped initial training set for each learner\n",
    "    initial_idx = []\n",
    "    for i in range(n_learner):\n",
    "        initial_idx.append(np.random.choice(len(X_training), size=len(X_training), replace=True))\n",
    "        \n",
    "       \n",
    "    # initialize learners for Committee\n",
    "    learner_list = []\n",
    "    for idx in initial_idx:\n",
    "        al = ActiveLearner(\n",
    "            estimator=RfWrapper(n_estimators=20, max_depth=6, random_state=seed),\n",
    "            X_training=X_training[idx],\n",
    "            y_training=y_training[idx])\n",
    "        learner_list.append(al)\n",
    "        \n",
    "    # initializing the Committee\n",
    "    committee = CommitteeRegressor(\n",
    "        learner_list=learner_list,\n",
    "        query_strategy=max_std_sampling\n",
    "    )\n",
    "\n",
    "    return committee"
   ]
  },
  {
   "cell_type": "code",
   "execution_count": 74,
   "id": "steady-finder",
   "metadata": {},
   "outputs": [],
   "source": [
    "def run_active_regression(learner, X_pool, y_pool, n_batch, batch_size, initial):\n",
    "    print('X_pool size, y_pool size', X_pool.shape, y_pool.shape)\n",
    "    selected = [initial]\n",
    "    data_sets = [(X_pool,y_pool)]\n",
    "    \n",
    "    for b in range(n_batch):\n",
    "        \n",
    "        # get next set of points to learn\n",
    "        X_batch, y_batch, X_pool, y_pool = get_next_batch(learner, X_pool, y_pool, batch_size)\n",
    "        print('X_pool size, y_pool size', X_pool.shape, y_pool.shape)\n",
    "        \n",
    "        # save data\n",
    "        batch_col = np.array([b]*len(X_batch)).reshape(-1,1)\n",
    "        y_col = y_batch.reshape(-1,1)\n",
    "        result = np.append(X_batch,y_col, axis=1)\n",
    "        selected.append(result)\n",
    "        \n",
    "        # save dataset\n",
    "        data_sets.append((X_pool,y_pool))\n",
    "    \n",
    "        # use new sample to update the model\n",
    "        learner.teach(X_batch, y_batch)\n",
    "    \n",
    "    return selected,data_sets"
   ]
  },
  {
   "cell_type": "code",
   "execution_count": 75,
   "id": "elder-birth",
   "metadata": {},
   "outputs": [],
   "source": [
    "def build_results_dataframe(selected, cols):\n",
    "    \n",
    "    # empty dataframe with correct column number\n",
    "    df = pd.DataFrame(columns=cols)\n",
    "    \n",
    "    for i,each in enumerate(selected):\n",
    "        \n",
    "        # create rows\n",
    "        df_i = pd.DataFrame(each, columns=cols)\n",
    "        \n",
    "        # add col for batch\n",
    "        df_i['Batch'] = i\n",
    "        \n",
    "        # append to final dataframe\n",
    "        df = df.append(df_i)\n",
    "        \n",
    "    return df\n",
    "        "
   ]
  },
  {
   "cell_type": "code",
   "execution_count": 76,
   "id": "defensive-machine",
   "metadata": {},
   "outputs": [],
   "source": [
    "def yield_stats(df, batch):\n",
    "    \"\"\"\n",
    "    Average yield and min and max yield.\n",
    "    \"\"\"\n",
    "    \n",
    "    df_yield = df[df['Batch']==batch]['Yield']\n",
    "    \n",
    "    # mean\n",
    "    mean_yield = df_yield.mean()\n",
    "    \n",
    "    # std dev\n",
    "    std_yield = df_yield.std()\n",
    "    \n",
    "    # min\n",
    "    min_yield = df_yield.min()\n",
    "    \n",
    "    # max\n",
    "    max_yield = df_yield.max()\n",
    "    \n",
    "    # max\n",
    "    median_yield = df_yield.median()\n",
    "    \n",
    "    return mean_yield, std_yield, min_yield, max_yield, median_yield\n",
    "    "
   ]
  },
  {
   "cell_type": "code",
   "execution_count": 77,
   "id": "opposed-integer",
   "metadata": {
    "scrolled": false
   },
   "outputs": [
    {
     "name": "stdout",
     "output_type": "stream",
     "text": [
      "(915, 11)\n",
      "(915,)\n",
      "X_pool size, y_pool size (915, 11) (915,)\n",
      "X_pool size, y_pool size (813, 11) (813,)\n",
      "X_pool size, y_pool size (711, 11) (711,)\n",
      "X_pool size, y_pool size (609, 11) (609,)\n",
      "X_pool size, y_pool size (507, 11) (507,)\n"
     ]
    },
    {
     "data": {
      "image/png": "[encoded data removed]",
      "text/plain": [
       "<Figure size 432x288 with 1 Axes>"
      ]
     },
     "metadata": {
      "needs_background": "light"
     },
     "output_type": "display_data"
    },
    {
     "data": {
      "image/png": "[encoded data removed]",
      "text/plain": [
       "<Figure size 432x288 with 1 Axes>"
      ]
     },
     "metadata": {
      "needs_background": "light"
     },
     "output_type": "display_data"
    },
    {
     "data": {
      "image/png": "[encoded data removed]",
      "text/plain": [
       "<Figure size 432x288 with 1 Axes>"
      ]
     },
     "metadata": {
      "needs_background": "light"
     },
     "output_type": "display_data"
    },
    {
     "data": {
      "image/png": "[encoded data removed]",
      "text/plain": [
       "<Figure size 432x288 with 1 Axes>"
      ]
     },
     "metadata": {
      "needs_background": "light"
     },
     "output_type": "display_data"
    },
    {
     "data": {
      "image/png": "[encoded data removed]",
      "text/plain": [
       "<Figure size 432x288 with 1 Axes>"
      ]
     },
     "metadata": {
      "needs_background": "light"
     },
     "output_type": "display_data"
    },
    {
     "name": "stdout",
     "output_type": "stream",
     "text": [
      "CPU times: user 27.1 s, sys: 256 ms, total: 27.3 s\n",
      "Wall time: 27.5 s\n"
     ]
    }
   ],
   "source": [
    "%%time\n",
    "\n",
    "# copy data for this section\n",
    "X_cp = copy.deepcopy(X_pool)\n",
    "y_cp = copy.deepcopy(y_pool)\n",
    "print(X_cp.shape)\n",
    "print(y_cp.shape)\n",
    "\n",
    "\n",
    "\n",
    "# define committee\n",
    "committee = build_committee(25, X_training, y_training, seed)\n",
    "\n",
    "# save initial training data as first batch\n",
    "initial = np.append(X_training, y_training.reshape(-1,1),axis=1)\n",
    "\n",
    "# active regression\n",
    "n_batch = 4\n",
    "batch_size = 102\n",
    "selected,data_sets = run_active_regression(committee, X_cp, y_cp, n_batch, batch_size, initial)\n",
    "\n",
    "\n",
    "df_results = build_results_dataframe(selected, cols.tolist())\n",
    "\n",
    "\n",
    "mean_yields = [] \n",
    "std_yields = []\n",
    "min_yields = []\n",
    "max_yields = []\n",
    "median_yields = []\n",
    "\n",
    "for b in range(n_batch+1):\n",
    "    mean_yield, std_yield, min_yield, max_yield, median_yield = yield_stats(df_results, b)\n",
    "    \n",
    "    mean_yields.append(mean_yield)\n",
    "    std_yields.append(std_yield)\n",
    "    min_yields.append(min_yield)\n",
    "    max_yields.append(max_yield)\n",
    "    median_yields.append(median_yield)\n",
    "    \n",
    "plt.title('Yield (mean)')\n",
    "plt.xticks([1,2,3,4,5])\n",
    "plt.plot([1,2,3,4,5], mean_yields)\n",
    "plt.show()\n",
    "\n",
    "plt.title('Yield (max)')\n",
    "plt.xticks([1,2,3,4,5])\n",
    "plt.plot([1,2,3,4,5],max_yields)\n",
    "plt.show()\n",
    "\n",
    "plt.title('Yield (min)')\n",
    "plt.xticks([1,2,3,4,5])\n",
    "plt.plot([1,2,3,4,5],min_yields)\n",
    "plt.show()\n",
    "\n",
    "\n",
    "plt.title('Yield (std deviation)')\n",
    "plt.xticks([1,2,3,4,5])\n",
    "plt.plot([1,2,3,4,5],std_yields)\n",
    "plt.show()\n",
    "\n",
    "plt.title('Yield (median)')\n",
    "plt.xticks([1,2,3,4,5])\n",
    "plt.plot([1,2,3,4,5],median_yields)\n",
    "plt.show()\n",
    "\n"
   ]
  },
  {
   "cell_type": "code",
   "execution_count": 78,
   "id": "sonic-classics",
   "metadata": {},
   "outputs": [
    {
     "data": {
      "text/plain": [
       "[4.0805, 9.84, 19.554000000000002, 11.701, 8.403500000000001]"
      ]
     },
     "execution_count": 78,
     "metadata": {},
     "output_type": "execute_result"
    }
   ],
   "source": [
    "# get median after 5 rounds\n",
    "median_yields"
   ]
  },
  {
   "cell_type": "code",
   "execution_count": 79,
   "id": "genuine-armstrong",
   "metadata": {},
   "outputs": [
    {
     "name": "stdout",
     "output_type": "stream",
     "text": [
      "27.174\n",
      "27.291\n"
     ]
    }
   ],
   "source": [
    "# get max yield\n",
    "\n",
    "print(np.max(selected[2][:,-1], axis=0))\n",
    "\n",
    "print(np.max(selected[3][:,-1], axis=0))"
   ]
  },
  {
   "cell_type": "code",
   "execution_count": 80,
   "id": "honest-murray",
   "metadata": {},
   "outputs": [],
   "source": [
    "def plot_points(df_results, n_batch, batch_size, spread):\n",
    "    x_points = []\n",
    "    \n",
    "    x_dist = spread / batch_size  # distance to next point\n",
    "    \n",
    "    for b in range(1,n_batch+1):  # shift points by 1\n",
    "        \n",
    "        x0 = b - spread/2  # starting x position for this batch\n",
    "        \n",
    "        for i in range(batch_size):\n",
    "\n",
    "            xi = x0 + i*x_dist  # x value to position the ith yield in this batch\n",
    "            x_points.append(xi)\n",
    "            \n",
    "    return x_points"
   ]
  },
  {
   "cell_type": "code",
   "execution_count": 88,
   "id": "special-ceremony",
   "metadata": {
    "scrolled": false
   },
   "outputs": [
    {
     "data": {
      "image/png": "[encoded data removed]",
      "text/plain": [
       "<Figure size 1440x720 with 1 Axes>"
      ]
     },
     "metadata": {
      "needs_background": "light"
     },
     "output_type": "display_data"
    }
   ],
   "source": [
    "plt.rcParams.update({'font.size': 18})\n",
    "plt.figure(figsize=(20,10))\n",
    "plt.ylim(top=35)\n",
    "\n",
    "# plot points remaining at each step\n",
    "# batch 1\n",
    "X_batch, y_batch = data_sets[0]\n",
    "n_y_0 = len(y_batch)\n",
    "x_points_2 = plot_points(df_results, 1, n_y_0, 0.3)[n_y_0*0:]\n",
    "plt.scatter(x_points_2, \n",
    "            y_batch,\n",
    "            marker=\"o\",\n",
    "            s=3,\n",
    "            color='gray',\n",
    "           label='Available points')\n",
    "\n",
    "# batch 2\n",
    "X_batch, y_batch = data_sets[1]\n",
    "n_y_1 = len(y_batch)\n",
    "x_points_2 = plot_points(df_results, 2, n_y_1, 0.3)[n_y_1*1:]\n",
    "plt.scatter(x_points_2, \n",
    "            y_batch,\n",
    "            marker=\"o\",\n",
    "            s=3,\n",
    "            color='gray')\n",
    "\n",
    "# batch 3\n",
    "X_batch, y_batch = data_sets[2]\n",
    "n_y_2 = len(y_batch)\n",
    "x_points_2 = plot_points(df_results, 3, n_y_2, 0.3)[n_y_2*2:]\n",
    "plt.scatter(x_points_2, \n",
    "            y_batch,\n",
    "            marker=\"o\",\n",
    "            s=3,\n",
    "            color='gray')\n",
    "\n",
    "# batch 3\n",
    "X_batch, y_batch = data_sets[3]\n",
    "n_y_3 = len(y_batch)\n",
    "x_points_2 = plot_points(df_results, 4, n_y_3, 0.3)[n_y_3*3:]\n",
    "plt.scatter(x_points_2, \n",
    "            y_batch,\n",
    "            marker=\"o\",\n",
    "            s=3,\n",
    "            color='gray')\n",
    "\n",
    "\n",
    "# batch 4\n",
    "X_batch, y_batch = data_sets[4]\n",
    "n_y_4 = len(y_batch)\n",
    "x_points_2 = plot_points(df_results, 5, n_y_4, 0.3)[n_y_4*4:]\n",
    "plt.scatter(x_points_2, \n",
    "            y_batch,\n",
    "            marker=\"o\",\n",
    "            s=3,\n",
    "            color='gray')\n",
    "\n",
    "\n",
    "\n",
    "# plot selected points\n",
    "x_points = plot_points(df_results, n_batch+1, batch_size, 0.3)\n",
    "len(x_points)\n",
    "\n",
    "plt.scatter(x_points, \n",
    "            df_results['Yield'].tolist(),\n",
    "            marker=\"o\",\n",
    "            s=50,\n",
    "            color='g',\n",
    "           edgecolor='k',\n",
    "           label='Selected points')\n",
    "\n",
    "plt.scatter(x_points[:22], \n",
    "            df_results['Yield'].tolist()[:22],\n",
    "            marker=\"o\",\n",
    "            s=50,\n",
    "            color='r',\n",
    "           edgecolor='k',\n",
    "           label='Initial 22')\n",
    "\n",
    "\n",
    "plt.bar([1,2,3,4,5], \n",
    "        height=0.4,  \n",
    "        bottom=mean_yields,\n",
    "        alpha=0.75,\n",
    "       color='k')\n",
    "plt.title('Batch vs Yield')\n",
    "plt.ylabel('Yield')\n",
    "plt.xlabel('Batch')\n",
    "plt.legend()\n",
    "plt.show()"
   ]
  },
  {
   "cell_type": "markdown",
   "id": "extraordinary-sugar",
   "metadata": {},
   "source": [
    "# Score model\n",
    "Score model against remaining points not selected for inclusion."
   ]
  },
  {
   "cell_type": "code",
   "execution_count": 89,
   "id": "adjacent-essence",
   "metadata": {},
   "outputs": [],
   "source": [
    "def run_kfold_active_learning(X_pool, y_pool, X_training, y_training, n_batch, batch_size, k, seed):\n",
    "    \"\"\"\n",
    "    Return K x n_batch matrix, where M[k][b] is the r2 score of the bth batch in the kth fold.\n",
    "    \"\"\"\n",
    "    \n",
    "    # define folds\n",
    "    kf = KFold(n_splits=k, shuffle=True, random_state=seed)\n",
    "    kf.get_n_splits(X_pool)\n",
    "    print(kf)\n",
    "     \n",
    "    # save r2 score for all folds\n",
    "    scores_all = []\n",
    "    \n",
    "    # for each fold\n",
    "    for train_index, test_index in kf.split(X_pool):\n",
    "        \n",
    "        # define optimizer for this fold\n",
    "        committee = build_committee(25, X_training, y_training, seed)\n",
    "        \n",
    "        # define data for this fold\n",
    "        X_train, X_test = X_pool[train_index], X_pool[test_index]\n",
    "        y_train, y_test = y_pool[train_index], y_pool[test_index]\n",
    "        \n",
    "        # save r2 score for each batch\n",
    "        scores_k = []\n",
    "        \n",
    "        # initial score for model\n",
    "        r2 = score_regression_model(committee, X_test, y_test)\n",
    "        scores_k.append(r2)\n",
    "        \n",
    "        # for each batch\n",
    "        for b in range(n_batch):\n",
    "        \n",
    "            # get next set of points to learn\n",
    "            X_batch, y_batch, X_train, y_train = get_next_batch(committee, X_train, y_train, batch_size)\n",
    "#             print('X_train size, y_train size', X_train.shape, y_train.shape)\n",
    "\n",
    "            # use new sample to update the model\n",
    "            committee.teach(X_batch, y_batch)\n",
    "            \n",
    "            # score model after training\n",
    "            r2 = score_regression_model(committee, X_test, y_test)\n",
    "            scores_k.append(r2)\n",
    "    \n",
    "        # save scores for this fold\n",
    "        scores_all.append(scores_k)\n",
    "        \n",
    "    return scores_all\n",
    "    "
   ]
  },
  {
   "cell_type": "code",
   "execution_count": 90,
   "id": "simple-tackle",
   "metadata": {},
   "outputs": [],
   "source": [
    "def get_score_stats(scores_arr):\n",
    "    \n",
    "    # stats \n",
    "    batch_mean = np.mean(scores_arr,axis=0)\n",
    "    batch_std = np.std(scores_arr,axis=0)\n",
    "        \n",
    "    return batch_mean, batch_std"
   ]
  },
  {
   "cell_type": "markdown",
   "id": "crucial-stephen",
   "metadata": {},
   "source": [
    "### Get Scores"
   ]
  },
  {
   "cell_type": "code",
   "execution_count": 91,
   "id": "sustained-brunswick",
   "metadata": {},
   "outputs": [
    {
     "name": "stdout",
     "output_type": "stream",
     "text": [
      "(915, 11)\n",
      "(915,)\n",
      "KFold(n_splits=5, random_state=42, shuffle=True)\n",
      "CPU times: user 2min 10s, sys: 1.23 s, total: 2min 11s\n",
      "Wall time: 2min 12s\n"
     ]
    },
    {
     "data": {
      "text/plain": [
       "5"
      ]
     },
     "execution_count": 91,
     "metadata": {},
     "output_type": "execute_result"
    }
   ],
   "source": [
    "%%time\n",
    "\n",
    "# copy data for this section\n",
    "X_cp = copy.deepcopy(X_pool)\n",
    "y_cp = copy.deepcopy(y_pool)\n",
    "print(X_cp.shape)\n",
    "print(y_cp.shape)\n",
    "\n",
    "\n",
    "# active learning\n",
    "n_batch = 4\n",
    "batch_size = 102\n",
    "k = 5\n",
    "scores = run_kfold_active_learning(X_cp, y_cp, X_training, y_training, n_batch, batch_size, k, seed)\n",
    "len(scores)"
   ]
  },
  {
   "cell_type": "code",
   "execution_count": 92,
   "id": "careful-rough",
   "metadata": {},
   "outputs": [
    {
     "data": {
      "text/plain": [
       "array([[-2.25670771,  0.74167208,  0.88882542,  0.89661527,  0.90289282],\n",
       "       [-3.37939934,  0.72731516,  0.85321084,  0.88236208,  0.87888184],\n",
       "       [-2.19857361,  0.72543461,  0.79746179,  0.91876305,  0.92030939],\n",
       "       [-2.43091572,  0.86486542,  0.89743591,  0.90879587,  0.93671853],\n",
       "       [-2.52186249,  0.59445863,  0.86956317,  0.88744793,  0.90944679]])"
      ]
     },
     "execution_count": 92,
     "metadata": {},
     "output_type": "execute_result"
    }
   ],
   "source": [
    "scores_arr = np.array(scores)\n",
    "scores_arr"
   ]
  },
  {
   "cell_type": "code",
   "execution_count": 93,
   "id": "peripheral-client",
   "metadata": {},
   "outputs": [
    {
     "data": {
      "text/plain": [
       "array([[ 1.        , -2.25670771],\n",
       "       [ 2.        ,  0.74167208],\n",
       "       [ 3.        ,  0.88882542],\n",
       "       [ 4.        ,  0.89661527],\n",
       "       [ 5.        ,  0.90289282],\n",
       "       [ 1.        , -3.37939934],\n",
       "       [ 2.        ,  0.72731516],\n",
       "       [ 3.        ,  0.85321084],\n",
       "       [ 4.        ,  0.88236208],\n",
       "       [ 5.        ,  0.87888184],\n",
       "       [ 1.        , -2.19857361],\n",
       "       [ 2.        ,  0.72543461],\n",
       "       [ 3.        ,  0.79746179],\n",
       "       [ 4.        ,  0.91876305],\n",
       "       [ 5.        ,  0.92030939],\n",
       "       [ 1.        , -2.43091572],\n",
       "       [ 2.        ,  0.86486542],\n",
       "       [ 3.        ,  0.89743591],\n",
       "       [ 4.        ,  0.90879587],\n",
       "       [ 5.        ,  0.93671853],\n",
       "       [ 1.        , -2.52186249],\n",
       "       [ 2.        ,  0.59445863],\n",
       "       [ 3.        ,  0.86956317],\n",
       "       [ 4.        ,  0.88744793],\n",
       "       [ 5.        ,  0.90944679]])"
      ]
     },
     "execution_count": 93,
     "metadata": {},
     "output_type": "execute_result"
    }
   ],
   "source": [
    "scores_y = np.array([i+1 for i in range(n_batch+1)]*(n_batch+1))\n",
    "scores_y\n",
    "scores_combined = np.append(scores_y.reshape(-1,1),scores_arr.reshape(-1,1),  axis=1)\n",
    "scores_combined\n"
   ]
  },
  {
   "cell_type": "markdown",
   "id": "public-camping",
   "metadata": {},
   "source": [
    "### Get stats"
   ]
  },
  {
   "cell_type": "code",
   "execution_count": 94,
   "id": "legislative-companion",
   "metadata": {},
   "outputs": [
    {
     "data": {
      "text/plain": [
       "array([-2.55749177,  0.73074918,  0.86129943,  0.89879684,  0.90964987])"
      ]
     },
     "execution_count": 94,
     "metadata": {},
     "output_type": "execute_result"
    }
   ],
   "source": [
    "batch_mean, batch_std = get_score_stats(scores_arr)\n",
    "batch_mean"
   ]
  },
  {
   "cell_type": "markdown",
   "id": "satellite-humor",
   "metadata": {},
   "source": [
    "### Plot stats per branch"
   ]
  },
  {
   "cell_type": "code",
   "execution_count": 95,
   "id": "drawn-jumping",
   "metadata": {},
   "outputs": [
    {
     "data": {
      "image/png": "[encoded data removed]",
      "text/plain": [
       "<Figure size 432x288 with 1 Axes>"
      ]
     },
     "metadata": {
      "needs_background": "light"
     },
     "output_type": "display_data"
    }
   ],
   "source": [
    "\n",
    "plt.rcParams.update({'font.size': 12})\n",
    "# plt.figure(figsize=(20,10))\n",
    "plt.scatter(scores_combined[:,0],scores_combined[:,1], marker='o', color='w',edgecolor='gray')\n",
    "\n",
    "plt.bar([1,2,3,4,5], \n",
    "        height=batch_mean, \n",
    "        yerr=batch_std,\n",
    "        alpha=0.5,\n",
    "       color='k')\n",
    "\n",
    "# plt.ylim(bottom=)\n",
    "plt.title('5-Fold cross validation')\n",
    "plt.ylabel('Prediction Accuracy (r2)')\n",
    "plt.xlabel('Batch')\n",
    "plt.show()"
   ]
  },
  {
   "cell_type": "code",
   "execution_count": null,
   "id": "precious-feelings",
   "metadata": {},
   "outputs": [],
   "source": []
  },
  {
   "cell_type": "code",
   "execution_count": null,
   "id": "alert-ethiopia",
   "metadata": {},
   "outputs": [],
   "source": []
  }
 ],
 "metadata": {
  "kernelspec": {
   "display_name": "Python 3",
   "language": "python",
   "name": "python3"
  },
  "language_info": {
   "codemirror_mode": {
    "name": "ipython",
    "version": 3
   },
   "file_extension": ".py",
   "mimetype": "text/x-python",
   "name": "python",
   "nbconvert_exporter": "python",
   "pygments_lexer": "ipython3",
   "version": "3.6.12"
  }
 },
 "nbformat": 4,
 "nbformat_minor": 5
}
