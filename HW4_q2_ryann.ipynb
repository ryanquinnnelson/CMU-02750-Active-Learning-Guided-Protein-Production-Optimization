{
 "cells": [
  {
   "cell_type": "markdown",
   "id": "phantom-working",
   "metadata": {},
   "source": [
    "### Imports"
   ]
  },
  {
   "cell_type": "code",
   "execution_count": 94,
   "id": "fitted-apple",
   "metadata": {},
   "outputs": [],
   "source": [
    "import copy\n",
    "import random\n",
    "import numpy as np\n",
    "import pandas as pd\n",
    "import matplotlib.pyplot as plt\n",
    "\n",
    "from modAL.models import BayesianOptimizer\n",
    "from modAL.acquisition import max_EI, max_PI, max_UCB\n",
    "from sklearn.preprocessing import StandardScaler\n",
    "from sklearn.gaussian_process import GaussianProcessRegressor\n",
    "from sklearn.gaussian_process.kernels import Matern, RBF\n",
    "\n",
    "\n",
    "\n",
    "### Suppresses Warning\n",
    "import warnings\n",
    "warnings.filterwarnings('ignore')\n",
    "\n",
    "seed = 42\n",
    "random.seed(seed)\n",
    "np.random.seed(seed)"
   ]
  },
  {
   "cell_type": "markdown",
   "id": "exceptional-cleaner",
   "metadata": {},
   "source": [
    "### Ideas\n",
    "- perform feature selection before running model\n",
    "- set the initial training set to be informative by choosing same 22 + 80 random as the authors"
   ]
  },
  {
   "cell_type": "markdown",
   "id": "detailed-projector",
   "metadata": {},
   "source": [
    "### Functions"
   ]
  },
  {
   "cell_type": "code",
   "execution_count": 98,
   "id": "municipal-expense",
   "metadata": {},
   "outputs": [],
   "source": [
    "def get_min_max_combinations(ranges_dict, feature):\n",
    "    \n",
    "    # min of all other features, max of this feature\n",
    "    min_combo = []\n",
    "    for key in ranges_dict.keys():\n",
    "        \n",
    "        if key == feature:\n",
    "            min_combo.append(min(ranges_dict[key]))\n",
    "        else:\n",
    "            min_combo.append(max(ranges_dict[key]))\n",
    "        \n",
    "\n",
    "    # max of all other features, min of this feature\n",
    "    max_combo = []\n",
    "    for key in ranges_dict.keys():\n",
    "        \n",
    "        if key == feature:\n",
    "            max_combo.append(max(ranges_dict[key]))\n",
    "        else:\n",
    "            max_combo.append(min(ranges_dict[key]))\n",
    "    \n",
    "    return tuple(min_combo), tuple(max_combo)"
   ]
  },
  {
   "cell_type": "code",
   "execution_count": 99,
   "id": "specified-cherry",
   "metadata": {},
   "outputs": [],
   "source": [
    "def get_index(df, combo):\n",
    "    \n",
    "    # split into components\n",
    "    Mg_glutamate, K_glutamate, Amino_Acid, tRNA, coA, NAD, cAMP, Folinic_Acid, Spermidine, Three_PGA, NTP = combo\n",
    "    \n",
    "    # get index of matching row in data\n",
    "    a = df.index[\n",
    "              np.isclose(df['Mg-glutamate (mM)'], Mg_glutamate) \\\n",
    "            & np.isclose(df['K-glutamate (mM)'], K_glutamate) \\\n",
    "            & np.isclose(df['Amino Acid (mM)'], Amino_Acid) \\\n",
    "            & np.isclose(df['tRNA (mg/ml)'], tRNA) \\\n",
    "            & np.isclose(df['coA (mM)'],coA)  \\\n",
    "            & np.isclose(df['NAD (mM)'], NAD) \\\n",
    "            & np.isclose(df['cAMP (mM)'], cAMP) \\\n",
    "            & np.isclose(df['Folinic Acid (mM)'], Folinic_Acid) \\\n",
    "            & np.isclose(df['Spermidine (mM)'], Spermidine) \\\n",
    "            & np.isclose(df['3-PGA (mM)'], Three_PGA) \\\n",
    "            & np.isclose(df['NTP (mM)'], NTP)]\n",
    "    return a.tolist()[0]\n",
    "\n"
   ]
  },
  {
   "cell_type": "code",
   "execution_count": 100,
   "id": "consistent-friend",
   "metadata": {},
   "outputs": [],
   "source": [
    "def get_initial_22_idx(df, ranges_dict):\n",
    "    \n",
    "    initial_idx = []\n",
    "    \n",
    "    # for each feature\n",
    "    for key in ranges_dict.keys():\n",
    "        min_combo, max_combo = get_min_max_combinations(ranges_dict,key)\n",
    "        idx = get_index(df, min_combo)\n",
    "        initial_idx.append(idx)\n",
    "        idx = get_index(df, max_combo)\n",
    "        initial_idx.append(idx)\n",
    "        \n",
    "    return np.array(initial_idx)\n",
    "    "
   ]
  },
  {
   "cell_type": "markdown",
   "id": "perceived-nightmare",
   "metadata": {},
   "source": [
    "# Build Bayesian Optimizer\n",
    "- with Gaussian process\n",
    "- define the sample space as the data pool. this is an ad-hoc version of membership query synthesis, because we can't draw from any possible point, only the points we have values for."
   ]
  },
  {
   "cell_type": "code",
   "execution_count": 88,
   "id": "material-voltage",
   "metadata": {},
   "outputs": [],
   "source": [
    "def get_next_sample(optimizer, X_pool, y_pool):\n",
    "\n",
    "    # call the query strategy defined in the learner to obtain a new sample\n",
    "    query_idx, query_sample = optimizer.query(X_pool)\n",
    "\n",
    "    # modify indexing to interpret as collection of one element with d features\n",
    "    query_sample_reshaped = query_sample.reshape(1, -1)\n",
    "\n",
    "    # obtain the query label\n",
    "    query_label = y_pool[query_idx]\n",
    "\n",
    "    # modify indexing to interpret as 1D array of one element\n",
    "    query_label_reshaped = query_label.reshape(1, )\n",
    "\n",
    "    return query_sample_reshaped, query_label_reshaped, query_idx\n"
   ]
  },
  {
   "cell_type": "code",
   "execution_count": 89,
   "id": "surrounded-distinction",
   "metadata": {},
   "outputs": [],
   "source": [
    "def get_next_batch(optimizer, X_pool, y_pool, batch_size):\n",
    "    \n",
    "    n_col = X_pool.shape[1]\n",
    "    X_batch = np.zeros((batch_size, n_col))\n",
    "    y_batch = np.zeros((batch_size,))\n",
    "\n",
    "    \n",
    "    for i in range(batch_size):\n",
    "        \n",
    "        X_sample, y_sample, query_idx = get_next_sample(optimizer, X_pool, y_pool)\n",
    "        \n",
    "        # add to batch\n",
    "        X_batch[i] = X_sample\n",
    "        y_batch[i] = y_sample\n",
    "        \n",
    "        # remove queried point from pool\n",
    "        X_pool = np.delete(X_pool, query_idx, axis=0)\n",
    "        y_pool = np.delete(y_pool, query_idx)     \n",
    "        \n",
    "    return X_batch, y_batch, X_pool, y_pool\n",
    "        \n"
   ]
  },
  {
   "cell_type": "code",
   "execution_count": 90,
   "id": "premium-proceeding",
   "metadata": {},
   "outputs": [],
   "source": [
    "def run_bayesian_optimization(optimizer, X_pool, y_pool, n_batch, batch_size, initial):\n",
    "    \n",
    "    selected = [initial]\n",
    "    for b in range(n_batch):\n",
    "        \n",
    "        # get next set of points to learn\n",
    "        X_batch, y_batch, X_pool, y_pool = get_next_batch(optimizer, X_pool, y_pool, batch_size)\n",
    "#         print(X_batch.shape)\n",
    "#         print(y_batch.shape)\n",
    "#         print('X_pool size, y_pool size', X_pool.shape, y_pool.shape)\n",
    "        \n",
    "        # save data\n",
    "        batch_col = np.array([b]*len(X_batch)).reshape(-1,1)\n",
    "        y_col = y_batch.reshape(-1,1)\n",
    "        result = np.append(X_batch,y_col, axis=1)\n",
    "        selected.append(result)\n",
    "    \n",
    "        # use new sample to update the model\n",
    "        optimizer.teach(X_batch, y_batch)\n",
    "        \n",
    "        # score results\n",
    "#         print('score results for batch ', b)\n",
    "    \n",
    "    return selected"
   ]
  },
  {
   "cell_type": "code",
   "execution_count": 103,
   "id": "governmental-hunger",
   "metadata": {},
   "outputs": [],
   "source": [
    "def build_results_dataframe(selected, cols):\n",
    "    \n",
    "    # empty dataframe with correct column number\n",
    "    df = pd.DataFrame(columns=cols)\n",
    "    \n",
    "    for i,each in enumerate(selected):\n",
    "        \n",
    "        # create rows\n",
    "        df_i = pd.DataFrame(each, columns=cols)\n",
    "        \n",
    "        # add col for batch\n",
    "        df_i['Batch'] = i\n",
    "        \n",
    "        # append to final dataframe\n",
    "        df = df.append(df_i)\n",
    "        \n",
    "    return df\n",
    "        "
   ]
  },
  {
   "cell_type": "code",
   "execution_count": 104,
   "id": "french-profile",
   "metadata": {},
   "outputs": [],
   "source": [
    "def yield_stats(df, batch):\n",
    "    \"\"\"\n",
    "    Average yield and min and max yield.\n",
    "    \"\"\"\n",
    "    \n",
    "    df_yield = df[df['Batch']==batch]['Yield']\n",
    "    \n",
    "    # mean\n",
    "    mean_yield = df_yield.mean()\n",
    "    \n",
    "    # std dev\n",
    "    std_yield = df_yield.std()\n",
    "    \n",
    "    # min\n",
    "    min_yield = df_yield.min()\n",
    "    \n",
    "    # max\n",
    "    max_yield = df_yield.max()\n",
    "    \n",
    "    return mean_yield, std_yield, min_yield, max_yield\n",
    "    "
   ]
  },
  {
   "cell_type": "markdown",
   "id": "eight-transportation",
   "metadata": {},
   "source": [
    "# Data Prep"
   ]
  },
  {
   "cell_type": "markdown",
   "id": "assumed-pipeline",
   "metadata": {},
   "source": [
    "### Load Data"
   ]
  },
  {
   "cell_type": "code",
   "execution_count": 95,
   "id": "blind-belle",
   "metadata": {
    "scrolled": true
   },
   "outputs": [
    {
     "name": "stdout",
     "output_type": "stream",
     "text": [
      "(1017, 12)\n"
     ]
    }
   ],
   "source": [
    "data = pd.read_csv('data/DataPool.csv')\n",
    "print(data.shape)\n",
    "data.head(5)\n",
    "cols = data.columns"
   ]
  },
  {
   "cell_type": "markdown",
   "id": "north-cartridge",
   "metadata": {},
   "source": [
    "### Split into features and target"
   ]
  },
  {
   "cell_type": "code",
   "execution_count": 96,
   "id": "identified-surrey",
   "metadata": {},
   "outputs": [
    {
     "name": "stdout",
     "output_type": "stream",
     "text": [
      "(1017, 11)\n",
      "(1017,)\n"
     ]
    }
   ],
   "source": [
    "X = data.drop(['Yield'],axis=1)\n",
    "print(X.shape)\n",
    "y_pool = data['Yield'].to_numpy()\n",
    "print(y_pool.shape)"
   ]
  },
  {
   "cell_type": "markdown",
   "id": "restricted-adventure",
   "metadata": {},
   "source": [
    "### Scale data\n",
    "So all variables have the same mean and std dev"
   ]
  },
  {
   "cell_type": "code",
   "execution_count": 97,
   "id": "documented-geometry",
   "metadata": {},
   "outputs": [],
   "source": [
    "scaler = StandardScaler()\n",
    "X_pool = scaler.fit_transform(X)"
   ]
  },
  {
   "cell_type": "markdown",
   "id": "distinct-third",
   "metadata": {},
   "source": [
    "# Define initial dataset\n",
    "- 11 data points in which each compound is minimized except one is maximized\n",
    "- 11 data pionts in which each compound is maximized except one is minimized\n",
    "- 80 random data points"
   ]
  },
  {
   "cell_type": "code",
   "execution_count": 101,
   "id": "outstanding-twist",
   "metadata": {},
   "outputs": [],
   "source": [
    "ranges_dict = {\n",
    "    'Mg-glutamate (mM)':[0.4,1.2,2,4],\n",
    "    'K-glutamate (mM)':[8,24,40,80],\n",
    "    'Amino Acid (mM)': [0.15,0.45,0.75,1.5],\n",
    "    'tRNA (mg/ml)':[0.02,0.06,0.1,0.2],\n",
    "    'coA (mM)':[0.026,0.078,0.13,0.26],\n",
    "    'NAD (mM)':[0.033,0.099,0.165,0.33],\n",
    "    'cAMP (mM)':[0.075,0.225,0.375,0.75],\n",
    "    'Folinic Acid (mM)':[0.0068,0.0204,0.034,0.068],\n",
    "    'Spermidine (mM)':[0.1,0.3,0.5,1],\n",
    "    '3-PGA (mM)':[3,9,15,30],\n",
    "    'NTP (mM)':[0.15,0.45,0.75,1.5]\n",
    "}\n"
   ]
  },
  {
   "cell_type": "code",
   "execution_count": 102,
   "id": "killing-chart",
   "metadata": {
    "scrolled": false
   },
   "outputs": [
    {
     "name": "stdout",
     "output_type": "stream",
     "text": [
      "(22, 11)\n",
      "(22,)\n",
      "(995, 11)\n",
      "(995,)\n",
      "(80, 11)\n",
      "(80,)\n",
      "(915, 11)\n",
      "(915,)\n",
      "(102, 11)\n",
      "(102,)\n"
     ]
    }
   ],
   "source": [
    "idx_first_22 = get_initial_22_idx(data, ranges_dict)\n",
    "\n",
    "X_training_22 = X_pool[idx_first_22]\n",
    "y_training_22 = y_pool[idx_first_22]\n",
    "print(X_training_22.shape)\n",
    "print(y_training_22.shape)\n",
    "\n",
    "# remove from pool\n",
    "X_pool = np.delete(X_pool, idx_first_22, axis=0)\n",
    "y_pool = np.delete(y_pool, idx_first_22)   \n",
    "print(X_pool.shape)\n",
    "print(y_pool.shape)\n",
    "\n",
    "# chose 80 points from pool at random\n",
    "idx_random_80 = np.random.choice(range(len(X_pool)), size=80, replace=False)\n",
    "X_training_80, y_training_80 = X_pool[idx_random_80], y_pool[idx_random_80]\n",
    "print(X_training_80.shape)\n",
    "print(y_training_80.shape)\n",
    "\n",
    "# remove 80 points from pool\n",
    "X_pool = np.delete(X_pool, idx_random_80, axis=0)\n",
    "y_pool = np.delete(y_pool, idx_random_80)   \n",
    "print(X_pool.shape)\n",
    "print(y_pool.shape) \n",
    "\n",
    "# combine training sets together\n",
    "X_training = np.append(X_training_22, X_training_80, axis=0)\n",
    "y_training = np.append(y_training_22, y_training_80, axis=0)\n",
    "print(X_training.shape)\n",
    "print(y_training.shape)\n",
    "\n",
    "assert X_training.shape == (102,11)\n",
    "assert y_training.shape == (102, )"
   ]
  },
  {
   "cell_type": "markdown",
   "id": "posted-concentrate",
   "metadata": {},
   "source": [
    "# Run model\n",
    "?? Does initial training set count among total query number of 510?\n",
    "- random initial training set\n",
    "- try other kernels"
   ]
  },
  {
   "cell_type": "code",
   "execution_count": 136,
   "id": "latin-method",
   "metadata": {},
   "outputs": [
    {
     "name": "stdout",
     "output_type": "stream",
     "text": [
      "(915, 11)\n",
      "(915,)\n"
     ]
    },
    {
     "data": {
      "image/png": "[encoded data removed]",
      "text/plain": [
       "<Figure size 432x288 with 1 Axes>"
      ]
     },
     "metadata": {
      "needs_background": "light"
     },
     "output_type": "display_data"
    },
    {
     "data": {
      "image/png": "[encoded data removed]",
      "text/plain": [
       "<Figure size 432x288 with 1 Axes>"
      ]
     },
     "metadata": {
      "needs_background": "light"
     },
     "output_type": "display_data"
    },
    {
     "data": {
      "image/png": "[encoded data removed]",
      "text/plain": [
       "<Figure size 432x288 with 1 Axes>"
      ]
     },
     "metadata": {
      "needs_background": "light"
     },
     "output_type": "display_data"
    },
    {
     "data": {
      "image/png": "[encoded data removed]",
      "text/plain": [
       "<Figure size 432x288 with 1 Axes>"
      ]
     },
     "metadata": {
      "needs_background": "light"
     },
     "output_type": "display_data"
    },
    {
     "name": "stdout",
     "output_type": "stream",
     "text": [
      "CPU times: user 14.5 s, sys: 397 ms, total: 14.9 s\n",
      "Wall time: 4.28 s\n"
     ]
    }
   ],
   "source": [
    "%%time \n",
    "# 15 min\n",
    "\n",
    "# copy data for this section\n",
    "X_cp = copy.deepcopy(X_pool)\n",
    "y_cp = copy.deepcopy(y_pool)\n",
    "print(X_cp.shape)\n",
    "print(y_cp.shape)\n",
    "\n",
    "# define optimizer\n",
    "# Matern(1.0)\n",
    "kernel = Matern(1.0) \n",
    "optimizer = BayesianOptimizer(\n",
    "    estimator=GaussianProcessRegressor(kernel=kernel),\n",
    "    X_training=X_training, \n",
    "    y_training=y_training,\n",
    "    query_strategy=max_EI\n",
    ")\n",
    "\n",
    "# save initial training data as first batch\n",
    "initial = np.append(X_training, y_training.reshape(-1,1),axis=1)\n",
    "\n",
    "# Bayesian optimization\n",
    "n_batch = 4\n",
    "batch_size = 102\n",
    "selected = run_bayesian_optimization(optimizer, X_cp, y_cp, n_batch, batch_size, initial)\n",
    "\n",
    "\n",
    "df_results = build_results_dataframe(selected, cols.tolist())\n",
    "\n",
    "mean_yields = [] \n",
    "std_yields = []\n",
    "min_yields = []\n",
    "max_yields = []\n",
    "\n",
    "for b in range(n_batch+1):\n",
    "    mean_yield, std_yield, min_yield, max_yield = yield_stats(df_results, b)\n",
    "    \n",
    "    mean_yields.append(mean_yield)\n",
    "    std_yields.append(std_yield)\n",
    "    min_yields.append(min_yield)\n",
    "    max_yields.append(max_yield)\n",
    "    \n",
    "plt.title('Yield (mean)')\n",
    "plt.xticks([1,2,3,4,5])\n",
    "plt.plot([1,2,3,4,5], mean_yields)\n",
    "plt.show()\n",
    "\n",
    "plt.title('Yield (max)')\n",
    "plt.xticks([1,2,3,4,5])\n",
    "plt.plot([1,2,3,4,5],max_yields)\n",
    "plt.show()\n",
    "\n",
    "plt.title('Yield (min)')\n",
    "plt.xticks([1,2,3,4,5])\n",
    "plt.plot([1,2,3,4,5],min_yields)\n",
    "plt.show()\n",
    "\n",
    "\n",
    "plt.title('Yield (std deviation)')\n",
    "plt.xticks([1,2,3,4,5])\n",
    "plt.plot([1,2,3,4,5],std_yields)\n",
    "plt.show()\n"
   ]
  },
  {
   "cell_type": "markdown",
   "id": "original-allergy",
   "metadata": {},
   "source": [
    "# Results\n",
    "- Selected points\n",
    "- ?? how do they define how much yield has improved? what is the starting yield?"
   ]
  },
  {
   "cell_type": "code",
   "execution_count": 162,
   "id": "elegant-pregnancy",
   "metadata": {},
   "outputs": [],
   "source": [
    "def plot_points(df_results, n_batch, batch_size, spread):\n",
    "    x_points = []\n",
    "    \n",
    "    x_dist = spread / batch_size  # distance to next point\n",
    "    \n",
    "    for b in range(1,n_batch+1):  # shift points by 1\n",
    "        \n",
    "        x0 = b - spread/2  # starting x position for this batch\n",
    "        \n",
    "        for i in range(batch_size):\n",
    "\n",
    "            xi = x0 + i*x_dist  # x value to position the ith yield in this batch\n",
    "            x_points.append(xi)\n",
    "            \n",
    "    return x_points"
   ]
  },
  {
   "cell_type": "code",
   "execution_count": 200,
   "id": "republican-shirt",
   "metadata": {},
   "outputs": [
    {
     "data": {
      "text/plain": [
       "510"
      ]
     },
     "execution_count": 200,
     "metadata": {},
     "output_type": "execute_result"
    }
   ],
   "source": [
    "x_points = plot_points(df_results, n_batch+1, batch_size, 0.3)\n",
    "len(x_points)"
   ]
  },
  {
   "cell_type": "code",
   "execution_count": 212,
   "id": "recovered-advice",
   "metadata": {},
   "outputs": [
    {
     "data": {
      "image/png": "[encoded data removed]",
      "text/plain": [
       "<Figure size 1440x720 with 1 Axes>"
      ]
     },
     "metadata": {
      "needs_background": "light"
     },
     "output_type": "display_data"
    }
   ],
   "source": [
    "plt.rcParams.update({'font.size': 18})\n",
    "plt.figure(figsize=(20,10))\n",
    "plt.scatter(x_points, \n",
    "            df_results['Yield'].tolist(),\n",
    "            marker=\"o\",\n",
    "            s=50,\n",
    "            color='g',\n",
    "           edgecolor='k')\n",
    "plt.bar([1,2,3,4,5], \n",
    "        height=0.4,  \n",
    "        bottom=mean_yields,\n",
    "        alpha=0.75,\n",
    "       color='k')\n",
    "plt.title('Batch vs Yield')\n",
    "plt.ylabel('Yield')\n",
    "plt.xlabel('Batch')\n",
    "\n",
    "plt.show()"
   ]
  }
 ],
 "metadata": {
  "kernelspec": {
   "display_name": "Python 3",
   "language": "python",
   "name": "python3"
  },
  "language_info": {
   "codemirror_mode": {
    "name": "ipython",
    "version": 3
   },
   "file_extension": ".py",
   "mimetype": "text/x-python",
   "name": "python",
   "nbconvert_exporter": "python",
   "pygments_lexer": "ipython3",
   "version": "3.6.12"
  }
 },
 "nbformat": 4,
 "nbformat_minor": 5
}
